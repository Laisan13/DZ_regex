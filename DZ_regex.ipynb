{
 "cells": [
  {
   "cell_type": "markdown",
   "metadata": {},
   "source": [
    "Задание №1"
   ]
  },
  {
   "cell_type": "code",
   "execution_count": 1,
   "metadata": {},
   "outputs": [],
   "source": [
    "import re\n",
    "\n",
    "# a =  car_id.split()\n",
    "# correct_id = r'([АВЕКМНОРСТУХ]{1})(\\d{3})([АВЕКМНОРСТУХ]{2})(\\d{2})'\n",
    "# car_result = re.findall(correct_id, a)\n",
    "def car_id_correct (car_id):\n",
    "    correct_id = r'([АВЕКМНОРСТУХ]{1})(\\d{3})([АВЕКМНОРСТУХ]{2})(\\d{1,2})'\n",
    "    if re.findall(correct_id, car_id):\n",
    "        return print (f'Номер {car_id[0:6]} валиден. Регион: {car_id[6:8]}')\n",
    "    else:\n",
    "        return print('Номер не валиден')\n"
   ]
  },
  {
   "cell_type": "code",
   "execution_count": 2,
   "metadata": {},
   "outputs": [
    {
     "name": "stdout",
     "output_type": "stream",
     "text": [
      "Номер А692ЕК валиден. Регион: 96\n"
     ]
    }
   ],
   "source": [
    "car_id = 'А692ЕК96'\n",
    "car_id_correct (car_id)"
   ]
  },
  {
   "cell_type": "markdown",
   "metadata": {},
   "source": [
    "Задание №2"
   ]
  },
  {
   "cell_type": "code",
   "execution_count": 3,
   "metadata": {},
   "outputs": [],
   "source": [
    "import re\n",
    "\n",
    "def del_repeat(str_):\n",
    "    return print( re.sub(r'\\b([\\w]+)(\\s+\\1)+\\b', r'\\1', str_ ) )\n",
    "      "
   ]
  },
  {
   "cell_type": "code",
   "execution_count": 4,
   "metadata": {},
   "outputs": [
    {
     "name": "stdout",
     "output_type": "stream",
     "text": [
      "Напишите функцию, которая будет удалять все последовательные повторы слов из заданной строки при помощи регулярных выражений\n"
     ]
    }
   ],
   "source": [
    "str_1 = 'Напишите функцию функцию, которая будет будет будет будет удалять все все все все последовательные повторы слов из из из из заданной строки строки при помощи регулярных выражений'\n",
    "\n",
    "del_repeat(str_1)"
   ]
  },
  {
   "cell_type": "markdown",
   "metadata": {},
   "source": [
    "Задание №3"
   ]
  },
  {
   "cell_type": "code",
   "execution_count": 5,
   "metadata": {},
   "outputs": [],
   "source": [
    "import re\n",
    "\n",
    "def acronym_words(some_words):\n",
    "    acronym_ = re.findall(r'\\b[\\w]', some_words )\n",
    "    acronym = ''\n",
    "    for i in acronym_:\n",
    "        acronym += i\n",
    "    return print (acronym.upper())"
   ]
  },
  {
   "cell_type": "code",
   "execution_count": 6,
   "metadata": {},
   "outputs": [
    {
     "name": "stdout",
     "output_type": "stream",
     "text": [
      "NFC\n"
     ]
    }
   ],
   "source": [
    "some_words = 'Near Field Communication'\n",
    "\n",
    "acronym_words(some_words)"
   ]
  },
  {
   "cell_type": "markdown",
   "metadata": {},
   "source": [
    "Задание №4"
   ]
  },
  {
   "cell_type": "code",
   "execution_count": 7,
   "metadata": {},
   "outputs": [
    {
     "name": "stdout",
     "output_type": "stream",
     "text": [
      "gmail.com: 2\n",
      "test.in: 1\n",
      "ya.ru: 2\n",
      "mail.ru: 1\n"
     ]
    }
   ],
   "source": [
    "import re\n",
    "\n",
    "emails = ['test@gmail.com, xyz@test.in, test@ya.ru, xyz@mail.ru, xyz@ya.ru', 'xyz@gmail.com']\n",
    "emails_str  = (' '.join(emails))\n",
    "emails_2 = emails_str.split()\n",
    "res = {}\n",
    "for i in emails_2:\n",
    "    domain_name = (re.findall(r'(?<=@).*[^,]',i))\n",
    "    domain_name_1 = (' '.join(domain_name))\n",
    "    if domain_name_1 not in res:\n",
    "        res[domain_name_1] = 1\n",
    "    else:\n",
    "        res[domain_name_1] += 1\n",
    "for word, count in res.items():\n",
    "    print(f'{word}: {count}') \n"
   ]
  }
 ],
 "metadata": {
  "kernelspec": {
   "display_name": "Python 3",
   "language": "python",
   "name": "python3"
  },
  "language_info": {
   "codemirror_mode": {
    "name": "ipython",
    "version": 3
   },
   "file_extension": ".py",
   "mimetype": "text/x-python",
   "name": "python",
   "nbconvert_exporter": "python",
   "pygments_lexer": "ipython3",
   "version": "3.8.5"
  }
 },
 "nbformat": 4,
 "nbformat_minor": 4
}
